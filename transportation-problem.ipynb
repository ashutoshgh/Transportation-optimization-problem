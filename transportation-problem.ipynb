{
 "cells": [
  {
   "cell_type": "code",
   "execution_count": 1,
   "metadata": {},
   "outputs": [
    {
     "output_type": "stream",
     "name": "stdout",
     "text": [
      "\t A\n\t B\n\t C\n\t D\n\t E\nW \t\n6\n\t\n\t\n9\n\t\n\t\n\t\nX \t\n5\n\t\n5\n\t\n\t\n10\n\t\n\t\nY \t\n\t\n7\n\t\n\t\n\t\n8\n\t\n\n\nTotal Cost =  2834\n"
     ]
    }
   ],
   "source": [
    "from collections import defaultdict\n",
    " \n",
    "costs  = {'W': {'A': 61, 'B': 72, 'C': 45, 'D': 55, 'E': 66},\n",
    "          'X': {'A': 69, 'B': 78, 'C': 60, 'D': 49, 'E': 56},\n",
    "          'Y': {'A': 59, 'B': 66, 'C': 63, 'D': 61, 'E': 47}}\n",
    "demand = {'A': 11, 'B': 12, 'C': 9, 'D': 10, 'E': 8}\n",
    "cols = sorted(demand.keys())\n",
    "supply = {'W': 15, 'X': 20, 'Y': 15}\n",
    "res = dict((k, defaultdict(int)) for k in costs)\n",
    "g = {}\n",
    "for x in supply:\n",
    "    g[x] = sorted(costs[x].keys(), key=lambda g: costs[x][g])\n",
    "for x in demand:\n",
    "    g[x] = sorted(costs.keys(), key=lambda g: costs[g][x])\n",
    " \n",
    "while g:\n",
    "    d = {}\n",
    "    for x in demand:\n",
    "        d[x] = (costs[g[x][1]][x] - costs[g[x][0]][x]) if len(g[x]) > 1 else costs[g[x][0]][x]\n",
    "    s = {}\n",
    "    for x in supply:\n",
    "        s[x] = (costs[x][g[x][1]] - costs[x][g[x][0]]) if len(g[x]) > 1 else costs[x][g[x][0]]\n",
    "    f = max(d, key=lambda n: d[n])\n",
    "    t = max(s, key=lambda n: s[n])\n",
    "    t, f = (f, g[f][0]) if d[f] > s[t] else (g[t][0], t)\n",
    "    v = min(supply[f], demand[t])\n",
    "    res[f][t] += v\n",
    "    demand[t] -= v\n",
    "    if demand[t] == 0:\n",
    "        for k, n in supply.items():\n",
    "            if n != 0:\n",
    "                g[k].remove(t)\n",
    "        del g[t]\n",
    "        del demand[t]\n",
    "    supply[f] -= v\n",
    "    if supply[f] == 0:\n",
    "        for k, n in demand.items():\n",
    "            if n != 0:\n",
    "                g[k].remove(f)\n",
    "        del g[f]\n",
    "        del supply[f]\n",
    " \n",
    "for n in cols:\n",
    "    print (\"\\t\", n),\n",
    "print\n",
    "cost = 0\n",
    "for g in sorted(costs):\n",
    "    print (g, \"\\t\"),\n",
    "    for n in cols:\n",
    "        y = res[g][n]\n",
    "        if y != 0:\n",
    "            print (y),\n",
    "        cost += y * costs[g][n]\n",
    "        print (\"\\t\"),\n",
    "    print\n",
    "print (\"\\n\\nTotal Cost = \", cost)"
   ]
  },
  {
   "cell_type": "markdown",
   "metadata": {},
   "source": [
    "### PuLP Model"
   ]
  }
 ],
 "metadata": {
  "kernelspec": {
   "display_name": "Python 3",
   "language": "python",
   "name": "python3"
  },
  "language_info": {
   "codemirror_mode": {
    "name": "ipython",
    "version": 3
   },
   "file_extension": ".py",
   "mimetype": "text/x-python",
   "name": "python",
   "nbconvert_exporter": "python",
   "pygments_lexer": "ipython3",
   "version": "3.8.3-final"
  }
 },
 "nbformat": 4,
 "nbformat_minor": 4
}